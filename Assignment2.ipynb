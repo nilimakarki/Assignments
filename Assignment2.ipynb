{
 "cells": [
  {
   "cell_type": "markdown",
   "metadata": {},
   "source": [
    "## 1.  Implement the logic behind Mergesort, Insertion sort and Timsort in Python. Why Timsort is considered as a best   sorting algorithm? Explain.                                                                                              Determine the worst-case complexity of Mergesort using recurrence.  "
   ]
  },
  {
   "cell_type": "markdown",
   "metadata": {},
   "source": [
    "### a. Mergesort"
   ]
  },
  {
   "cell_type": "code",
   "execution_count": 11,
   "metadata": {},
   "outputs": [],
   "source": [
    "def merge_sort(array):\n",
    "    if len(array) <=1: \n",
    "        return array\n",
    "    \n",
    "    middle = len(array) // 2\n",
    "    left = merge_sort(array[:middle])\n",
    "    right = merge_sort(array[middle:])\n",
    "    \n",
    "    result = merge(left, right)\n",
    "    \n",
    "    return result\n",
    "\n",
    "def merge(a, b):\n",
    "    c = []\n",
    "    a_idx = 0\n",
    "    b_idx = 0\n",
    "    \n",
    "    while a_idx < len(a) and b_idx < len(b):\n",
    "        if a[a_idx] < b[b_idx]:\n",
    "            c.append(a[a_idx])\n",
    "            a_idx += 1\n",
    "        elif a[a_idx] > b[b_idx]:\n",
    "            c.append(b[b_idx])\n",
    "            b_idx += 1\n",
    "        else:\n",
    "            c.append(a[a_idx])\n",
    "            c.append(b[b_idx])\n",
    "            a_idx += 1\n",
    "            b_idx += 1\n",
    "    \n",
    "    if a_idx < len(a):\n",
    "        c.extend(a[a_idx:]) \n",
    "        \n",
    "    if b_idx < len(b):\n",
    "        c.extend(b[b_idx:]) \n",
    "        \n",
    "    return c"
   ]
  },
  {
   "cell_type": "code",
   "execution_count": 12,
   "metadata": {},
   "outputs": [
    {
     "name": "stdout",
     "output_type": "stream",
     "text": [
      "Unsorted array: [1, 15, 8, 3, 20, 18, 25]\n",
      "\n",
      "Sorted array: [1, 3, 8, 15, 18, 20, 25]\n"
     ]
    }
   ],
   "source": [
    "array = [1, 15, 8, 3, 20, 18, 25]\n",
    "\n",
    "print(\"Unsorted array: {}\\n\".format(array))\n",
    "\n",
    "sorted_array = merge_sort(array)\n",
    "\n",
    "print(\"Sorted array: {}\".format(sorted_array))"
   ]
  },
  {
   "cell_type": "markdown",
   "metadata": {},
   "source": [
    "### b. Insertion sort"
   ]
  },
  {
   "cell_type": "code",
   "execution_count": 13,
   "metadata": {},
   "outputs": [],
   "source": [
    "def insertion_sort(array):\n",
    "    for x in range(0, len(array)):\n",
    "        for y in range(x, 0, -1):\n",
    "            if array[y] < array[y-1]:\n",
    "                array[y] , array[y-1] = array[y-1] , array[y]\n",
    "    return array"
   ]
  },
  {
   "cell_type": "code",
   "execution_count": 14,
   "metadata": {},
   "outputs": [
    {
     "name": "stdout",
     "output_type": "stream",
     "text": [
      "Unsorted array: [1, 15, 8, 3, 20, 18, 25]\n",
      "\n",
      "Sorted array: [1, 3, 8, 15, 18, 20, 25]\n"
     ]
    }
   ],
   "source": [
    "array = [1, 15, 8, 3, 20, 18, 25]\n",
    "\n",
    "print(\"Unsorted array: {}\\n\".format(array))\n",
    "\n",
    "sorted_array = insertion_sort(array)\n",
    "\n",
    "print(\"Sorted array: {}\".format(sorted_array))"
   ]
  },
  {
   "cell_type": "markdown",
   "metadata": {},
   "source": [
    "### c. Timsort"
   ]
  },
  {
   "cell_type": "code",
   "execution_count": 15,
   "metadata": {},
   "outputs": [],
   "source": [
    "def tim_sort(array, run):\n",
    "    for x in range(0, len(array), run):\n",
    "        array[x:x+run] = insertion_sort(array[x:x+run])\n",
    "    \n",
    "    print(array,\"\\n\")\n",
    "    run_idx = run\n",
    "    \n",
    "    \n",
    "    while run_idx < len(array):\n",
    "        \n",
    "        for x in range(0, len(array), 2*run_idx):\n",
    "            array[x:x+2*run_idx] = merge(array[x:x+run_idx], array[x+run_idx:x+2*run_idx])\n",
    "        \n",
    "        run_idx = run_idx * 2\n",
    "        \n",
    "    return array"
   ]
  },
  {
   "cell_type": "code",
   "execution_count": 16,
   "metadata": {},
   "outputs": [
    {
     "name": "stdout",
     "output_type": "stream",
     "text": [
      "Unsorted array: [31, 41, 31, 48, 93, 89, 66, 44, 58, 59, 5, 81, 42, 97, 56, 45, 31, 53, 50, 40, 88, 65, 60, 91, 21, 84, 4, 54, 87, 64, 36, 95, 3, 79, 65, 41, 46, 12, 90, 49, 35, 38, 88, 12, 6, 63, 6, 54, 23, 77]\n",
      "\n",
      "[31, 31, 41, 48, 93, 44, 58, 59, 66, 89, 5, 42, 56, 81, 97, 31, 40, 45, 50, 53, 21, 60, 65, 88, 91, 4, 54, 64, 84, 87, 3, 36, 65, 79, 95, 12, 41, 46, 49, 90, 6, 12, 35, 38, 88, 6, 23, 54, 63, 77] \n",
      "\n",
      "Sorted array: [3, 4, 5, 6, 6, 12, 12, 21, 23, 31, 31, 31, 35, 36, 38, 40, 41, 41, 42, 44, 45, 46, 48, 49, 50, 53, 54, 54, 56, 58, 59, 60, 63, 64, 65, 65, 66, 77, 79, 81, 84, 87, 88, 88, 89, 90, 91, 93, 95, 97]\n"
     ]
    }
   ],
   "source": [
    "import random\n",
    "\n",
    "array = []\n",
    "run = 5\n",
    "for x in range(0, 50):\n",
    "    array.append(random.randint(0,97))\n",
    "\n",
    "print(\"Unsorted array: {}\\n\".format(array))\n",
    "\n",
    "result = tim_sort(array, run)\n",
    "    \n",
    "print(\"Sorted array: {}\".format(result))"
   ]
  },
  {
   "cell_type": "markdown",
   "metadata": {},
   "source": []
  },
  {
   "cell_type": "markdown",
   "metadata": {},
   "source": []
  },
  {
   "cell_type": "markdown",
   "metadata": {},
   "source": [
    "## 2. Consider a list which contains N numbers. You need to determine whether two of the numbers sum to a given number K. If the list is [2, 5, 9, 0, 8] & k=7, the answer is YES(2+5).                                                     a. Write an O(n​2​) algorithm.                                                                                       b. Write an O(NlogN) algorithm. [​Hint​: First of all sort the list using Timsort]  "
   ]
  },
  {
   "cell_type": "code",
   "execution_count": 2,
   "metadata": {},
   "outputs": [
    {
     "name": "stdout",
     "output_type": "stream",
     "text": [
      "[(2, 5)]\n"
     ]
    }
   ],
   "source": [
    "list = [2, 5, 9, 0, 8]\n",
    "k = 7\n",
    "result = []\n",
    "for i in list:\n",
    "    for j in list[1:]:\n",
    "        if k == i+j:\n",
    "            result.append((i,j))\n",
    "print(result)\n",
    "       "
   ]
  },
  {
   "cell_type": "code",
   "execution_count": 7,
   "metadata": {},
   "outputs": [],
   "source": [
    "A=[2, 5, 9, 0, 8]\n",
    "K=7\n",
    "l=0 \n",
    "r=len(A)-1 \n",
    "while l < r:\n",
    "    if (A[l] + A[r] ==K):\n",
    "        print(\"matched\")\n",
    "    elif (A[l] + A[r] < K):\n",
    "        l += 1\n",
    "    else:\n",
    "        r -= 1\n"
   ]
  },
  {
   "cell_type": "markdown",
   "metadata": {},
   "source": [
    "## 3. Print Pythagorean triples upto n using List Comprehension "
   ]
  },
  {
   "cell_type": "code",
   "execution_count": 8,
   "metadata": {},
   "outputs": [
    {
     "name": "stdout",
     "output_type": "stream",
     "text": [
      "[(3, 4, 5), (5, 12, 13), (6, 8, 10), (8, 15, 17), (9, 12, 15), (12, 16, 20)]\n"
     ]
    }
   ],
   "source": [
    "n = int(input(\"Enter the value of n:\"))\n",
    "\n",
    "print([(a,b,c) for a in range(1,n+1) for b in range(a,n+1) for c in range(b,n+1) if a**2 + b**2 == c**2])"
   ]
  },
  {
   "cell_type": "markdown",
   "metadata": {},
   "source": [
    "## 4. What will be the output?                                                                                       a.[(x, y) for x in range(5) for y in range(5) if (x+y)%2 == 0 and x != y]"
   ]
  },
  {
   "cell_type": "code",
   "execution_count": 29,
   "metadata": {},
   "outputs": [
    {
     "name": "stdout",
     "output_type": "stream",
     "text": [
      "[(0, 2), (0, 4), (1, 3), (2, 0), (2, 4), (3, 1), (4, 0), (4, 2)]\n"
     ]
    }
   ],
   "source": [
    "print([(x, y) for x in range(5) for y in range(5) if (x+y)%2 == 0 and x != y])"
   ]
  },
  {
   "cell_type": "markdown",
   "metadata": {},
   "source": [
    "## 5. Suppose a list, lett = [‘a’, ‘b’, ‘r’, ‘a’, ‘c’, ‘a’, ‘d’, ‘a’, ‘b’, ‘r’, ‘a’]. Write a method lett_frequency(lett) to count frequency of letters a, b, c, d and r. Your method should return frequency dictionary. "
   ]
  },
  {
   "cell_type": "code",
   "execution_count": 5,
   "metadata": {},
   "outputs": [],
   "source": [
    "def lett_frequency(lett):\n",
    "    frequency = dict()\n",
    "    for item in lett:\n",
    "        if item not in frequency:\n",
    "            frequency[item] = 1\n",
    "        else:\n",
    "            frequency[item] += 1\n",
    "    return frequency"
   ]
  },
  {
   "cell_type": "code",
   "execution_count": 6,
   "metadata": {},
   "outputs": [
    {
     "name": "stdout",
     "output_type": "stream",
     "text": [
      "{'a': 5, 'b': 2, 'r': 2, 'c': 1, 'd': 1}\n"
     ]
    }
   ],
   "source": [
    "lett = ['a', 'b', 'r', 'a', 'c', 'a', 'd', 'a', 'b', 'r', 'a']\n",
    "frequency = lett_frequency(lett)\n",
    "print(frequency)"
   ]
  },
  {
   "cell_type": "code",
   "execution_count": null,
   "metadata": {},
   "outputs": [],
   "source": []
  }
 ],
 "metadata": {
  "kernelspec": {
   "display_name": "Python 3",
   "language": "python",
   "name": "python3"
  },
  "language_info": {
   "codemirror_mode": {
    "name": "ipython",
    "version": 3
   },
   "file_extension": ".py",
   "mimetype": "text/x-python",
   "name": "python",
   "nbconvert_exporter": "python",
   "pygments_lexer": "ipython3",
   "version": "3.6.3"
  }
 },
 "nbformat": 4,
 "nbformat_minor": 2
}
