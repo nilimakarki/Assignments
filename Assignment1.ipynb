{
 "cells": [
  {
   "cell_type": "markdown",
   "metadata": {},
   "source": [
    "### Q1. Write a Python program to replace last value of tuples in a list.\n",
    "Sample list: [(10, 20, 40), (40, 50, 60), (70, 80, 90)]\n",
    "\n",
    "Expected Output: [(10, 20, 100), (40, 50, 100), (70, 80, 100)]"
   ]
  },
  {
   "cell_type": "code",
   "execution_count": 1,
   "metadata": {},
   "outputs": [
    {
     "name": "stdout",
     "output_type": "stream",
     "text": [
      "[(10, 20, 100), (40, 50, 100), (70, 80, 100)]\n"
     ]
    }
   ],
   "source": [
    "list = [(10, 20, 40), (40, 50, 60), (70, 80, 90)]\n",
    "r = []\n",
    "\n",
    "for t in list:\n",
    "    r.append(t[0:2] + (100,))\n",
    "    \n",
    "print(r)"
   ]
  },
  {
   "cell_type": "markdown",
   "metadata": {},
   "source": [
    "### Q2. The user enters a string and a substring. You have to print the number of times that the substring occurs in the given string. String traversal will take place from left to right, not from right to left.\n",
    "Input:\n",
    "\n",
    "ABCDCDC\n",
    "\n",
    "CDC\n",
    "\n",
    "Output:\n",
    "\n",
    "2"
   ]
  },
  {
   "cell_type": "code",
   "execution_count": 2,
   "metadata": {},
   "outputs": [
    {
     "name": "stdout",
     "output_type": "stream",
     "text": [
      "2\n"
     ]
    }
   ],
   "source": [
    "st = input(\"Enter a string: \")\n",
    "sub = input(\"Enter a substring present in the entered string: \")\n",
    "count = 0\n",
    "\n",
    "for i in range(0, len(st)):\n",
    "    if st[i:i+len(sub)] == sub:\n",
    "        count += 1\n",
    "\n",
    "print(count)"
   ]
  },
  {
   "cell_type": "markdown",
   "metadata": {},
   "source": [
    "### Q3. You are given a string and your task is remove all Upper case letters.\n",
    "input: 'This is mE 123'\n",
    "\n",
    "output: 'his is m 123'"
   ]
  },
  {
   "cell_type": "code",
   "execution_count": 3,
   "metadata": {},
   "outputs": [
    {
     "name": "stdout",
     "output_type": "stream",
     "text": [
      "his is m 123\n"
     ]
    }
   ],
   "source": [
    "string = 'This is mE 123'\n",
    "result = ''\n",
    "\n",
    "for i in string:\n",
    "    if i.isupper():\n",
    "        pass\n",
    "    else:\n",
    "        result += i\n",
    "        \n",
    "print(result)"
   ]
  },
  {
   "cell_type": "markdown",
   "metadata": {},
   "source": [
    "### Q4. Write a class in which its one method accepts a string from console and another method to print the characters that have odd indexes.\n",
    "\n",
    "Example:\n",
    "If the following string is given as input to the program:\n",
    "\n",
    "Hello123\n",
    "\n",
    "Then, the output of the program should be:\n",
    "\n",
    "el13"
   ]
  },
  {
   "cell_type": "code",
   "execution_count": 4,
   "metadata": {},
   "outputs": [
    {
     "name": "stdout",
     "output_type": "stream",
     "text": [
      "el13\n"
     ]
    }
   ],
   "source": [
    "class Odd:\n",
    "    def __init__(self):\n",
    "        self.string = \"\"\n",
    "\n",
    "    def enter_input(self):\n",
    "        self.string = input(\"Enter a string: \")\n",
    "\n",
    "    def print_odd(self):\n",
    "        result = self.string[1::2]\n",
    "        print(result)\n",
    "\n",
    "odd = Odd()\n",
    "odd.enter_in put()\n",
    "odd.print_odd()"
   ]
  }
 ],
 "metadata": {
  "kernelspec": {
   "display_name": "Python 3",
   "language": "python",
   "name": "python3"
  },
  "language_info": {
   "codemirror_mode": {
    "name": "ipython",
    "version": 3
   },
   "file_extension": ".py",
   "mimetype": "text/x-python",
   "name": "python",
   "nbconvert_exporter": "python",
   "pygments_lexer": "ipython3",
   "version": "3.6.3"
  }
 },
 "nbformat": 4,
 "nbformat_minor": 2
}
